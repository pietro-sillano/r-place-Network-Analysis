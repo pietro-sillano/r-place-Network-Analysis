{
 "cells": [
  {
   "cell_type": "code",
   "execution_count": 1,
   "id": "7969ed93-9065-44a5-843c-496378faf710",
   "metadata": {},
   "outputs": [],
   "source": [
    "import numpy as np # linear algebra\n",
    "import pandas as pd # data processing, CSV file I/O (e.g. pd.read_csv)\n",
    "from tqdm.auto import tqdm\n",
    "from matplotlib.path import Path\n",
    "import ast\n",
    "import pickle\n",
    "import matplotlib.pyplot as plt\n",
    "from networkx.algorithms import bipartite\n",
    "import networkx as nx\n",
    "from collections import Counter"
   ]
  },
  {
   "cell_type": "markdown",
   "id": "45977050-1ef0-4ad3-8a50-027cfc0af4ed",
   "metadata": {},
   "source": [
    "# Analysis"
   ]
  },
  {
   "cell_type": "code",
   "execution_count": 2,
   "id": "11e62781-b246-4cc3-916d-323779c5a471",
   "metadata": {},
   "outputs": [
    {
     "data": {
      "text/plain": [
       "{1: 610546,\n",
       " 2: 348796,\n",
       " 3: 239995,\n",
       " 4: 181104,\n",
       " 5: 143941,\n",
       " 10: 65270,\n",
       " 15: 38554,\n",
       " 20: 25511,\n",
       " 50: 4391,\n",
       " 100: 508,\n",
       " 200: 6}"
      ]
     },
     "execution_count": 2,
     "metadata": {},
     "output_type": "execute_result"
    }
   ],
   "source": [
    "l = {}\n",
    "threshold = [1,2,3,4,5,10,15,20,50,100,200]\n",
    "\n",
    "\n",
    "for t in threshold:\n",
    "    count = 0 \n",
    "#    fh=open('output/network_france_germany.csv','r')\n",
    "    fh=open('network_france_germany.csv','r')\n",
    "\n",
    "    for line in fh.readlines():\n",
    "        s=line.strip().split(',')\n",
    "        if int(s[2]) > t:\n",
    "            count = count + 1\n",
    "    l[t] = count\n",
    "l"
   ]
  },
  {
   "cell_type": "code",
   "execution_count": 3,
   "id": "2f8dfa1e-13f0-4563-b05f-576f715eacef",
   "metadata": {},
   "outputs": [
    {
     "data": {
      "text/plain": [
       "[<matplotlib.lines.Line2D at 0x7f44a6faaf60>]"
      ]
     },
     "execution_count": 3,
     "metadata": {},
     "output_type": "execute_result"
    },
    {
     "data": {
      "image/png": "[encoded data removed]",
      "text/plain": [
       "<Figure size 432x288 with 1 Axes>"
      ]
     },
     "metadata": {
      "needs_background": "light"
     },
     "output_type": "display_data"
    }
   ],
   "source": [
    "plt.semilogy(l.keys(),l.values())"
   ]
  },
  {
   "cell_type": "code",
   "execution_count": 5,
   "id": "8380b588-95b9-4bbc-9fe3-db700f325668",
   "metadata": {},
   "outputs": [],
   "source": [
    "def load_graph(MIN_TILES):\n",
    "    G=nx.Graph()\n",
    "#    fh=open('output/network_france_germany.csv','r')\n",
    "    fh=open('network_france_germany.csv','r')\n",
    "\n",
    "\n",
    "    for line in fh.readlines():\n",
    "        s=line.strip().split(',')\n",
    "        if int(s[2]) >= MIN_TILES :\n",
    "            G.add_edge(str(s[0]),int(s[1]),weight = int(s[2]))\n",
    "    fh.close()  \n",
    "    return G"
   ]
  },
  {
   "cell_type": "code",
   "execution_count": 16,
   "id": "4435a1f4-38c0-42c5-815e-f3baefab2351",
   "metadata": {},
   "outputs": [],
   "source": [
    "def max_min_tiles(guess):\n",
    "    # trova il massimo numero minimo di tiles messe da un utente per cui abbiamo una componente sola!\n",
    "    G = load_graph(guess)\n",
    "    n_comps = len([c for c in nx.connected_components(G)])\n",
    "    MIN_TILES = guess\n",
    "    while n_comps > 1 :\n",
    "        G  = load_graph(MIN_TILES)\n",
    "        n_comps = len([c for c in nx.connected_components(G)])        \n",
    "        MIN_TILES = MIN_TILES -  1\n",
    "\n",
    "    return G, MIN_TILES"
   ]
  },
  {
   "cell_type": "code",
   "execution_count": 18,
   "id": "570877d6-9753-49b9-bc05-17bec8c176ef",
   "metadata": {},
   "outputs": [
    {
     "data": {
      "text/plain": [
       "22"
      ]
     },
     "execution_count": 18,
     "metadata": {},
     "output_type": "execute_result"
    }
   ],
   "source": [
    "G,MIN_TILES = max_min_tiles(25)\n",
    "MIN_TILES"
   ]
  },
  {
   "cell_type": "code",
   "execution_count": 24,
   "id": "c1173a43-b42e-470f-80aa-afcd9cc84a7d",
   "metadata": {},
   "outputs": [],
   "source": [
    "MIN_TILES = 2"
   ]
  },
  {
   "cell_type": "code",
   "execution_count": 29,
   "id": "3b93ecbb-a23a-447c-acfd-0582a3803999",
   "metadata": {},
   "outputs": [],
   "source": [
    "import random\n",
    "G=nx.Graph()\n",
    "#fh=open('output/network_france_germany.csv','r')\n",
    "fh=open('network_france_germany.csv','r')\n",
    "\n",
    "\n",
    "for line in fh.readlines():\n",
    "    s=line.strip().split(',')\n",
    "    if int(s[2]) > MIN_TILES:\n",
    "        if random.random() < 0.1:\n",
    "            G.add_edge(str(s[0]), int(s[1]), weight = int(s[2]))\n",
    "fh.close()  "
   ]
  },
  {
   "cell_type": "code",
   "execution_count": 30,
   "id": "d91ed34c-4536-4868-a5dc-80f3598bf2c6",
   "metadata": {},
   "outputs": [
    {
     "data": {
      "text/plain": [
       "34613"
      ]
     },
     "execution_count": 30,
     "metadata": {},
     "output_type": "execute_result"
    }
   ],
   "source": [
    "len(G.nodes)"
   ]
  },
  {
   "cell_type": "code",
   "execution_count": 31,
   "id": "584d6b10-276f-4a44-96d9-5067dc6dc993",
   "metadata": {},
   "outputs": [
    {
     "name": "stdout",
     "output_type": "stream",
     "text": [
      "abbiamo  9  artworks e  34604  utenti\n"
     ]
    }
   ],
   "source": [
    "counter = 0\n",
    "for node in G.nodes:\n",
    "    if isinstance(node, str):\n",
    "        counter += 1\n",
    "counter\n",
    "print('abbiamo ',counter,' artworks e ', len(G.nodes) - counter, ' utenti' )"
   ]
  },
  {
   "cell_type": "code",
   "execution_count": 33,
   "id": "e61d53b9-0c7e-447b-a4cb-1f0751ca88d8",
   "metadata": {},
   "outputs": [
    {
     "data": {
      "text/plain": [
       "[34613]"
      ]
     },
     "execution_count": 33,
     "metadata": {},
     "output_type": "execute_result"
    }
   ],
   "source": [
    "[len(c) for c in sorted(nx.connected_components(G), key=len, reverse=True)]"
   ]
  },
  {
   "cell_type": "code",
   "execution_count": 34,
   "id": "b179949c-d990-4480-bc31-918b5c72f0f2",
   "metadata": {},
   "outputs": [],
   "source": [
    "if len([len(c) for c in sorted(nx.connected_components(G), key=len, reverse=True)]) > 1:\n",
    "    S = [G.subgraph(c).copy() for c in nx.connected_components(G)]\n",
    "    G = nx.Graph(S[0])"
   ]
  },
  {
   "cell_type": "markdown",
   "id": "05f1e443-a8a4-44ae-be81-20241e1e50b9",
   "metadata": {},
   "source": [
    "### projected graph for arts"
   ]
  },
  {
   "cell_type": "code",
   "execution_count": 35,
   "id": "3f237a87-306d-4696-a03d-8cee6067a623",
   "metadata": {},
   "outputs": [
    {
     "data": {
      "text/plain": [
       "(9, 34604)"
      ]
     },
     "execution_count": 35,
     "metadata": {},
     "output_type": "execute_result"
    }
   ],
   "source": [
    "arts = nx.bipartite.sets(G)[0]\n",
    "users = nx.bipartite.sets(G)[1]\n",
    "len(arts), len(users)"
   ]
  },
  {
   "cell_type": "code",
   "execution_count": 13,
   "id": "9e036eca-0e64-4931-a399-392602cf3cf0",
   "metadata": {},
   "outputs": [
    {
     "ename": "ImportError",
     "evalue": "cairo backend requires that pycairo>=1.11.0 or cairocffi is installed",
     "output_type": "error",
     "traceback": [
      "\u001b[0;31m---------------------------------------------------------------------------\u001b[0m",
      "\u001b[0;31mModuleNotFoundError\u001b[0m                       Traceback (most recent call last)",
      "\u001b[0;32m/opt/tljh/user/lib/python3.7/site-packages/matplotlib/backends/backend_cairo.py\u001b[0m in \u001b[0;36m<module>\u001b[0;34m\u001b[0m\n\u001b[1;32m     14\u001b[0m \u001b[0;32mtry\u001b[0m\u001b[0;34m:\u001b[0m\u001b[0;34m\u001b[0m\u001b[0;34m\u001b[0m\u001b[0m\n\u001b[0;32m---> 15\u001b[0;31m     \u001b[0;32mimport\u001b[0m \u001b[0mcairo\u001b[0m\u001b[0;34m\u001b[0m\u001b[0;34m\u001b[0m\u001b[0m\n\u001b[0m\u001b[1;32m     16\u001b[0m     \u001b[0;32mif\u001b[0m \u001b[0mcairo\u001b[0m\u001b[0;34m.\u001b[0m\u001b[0mversion_info\u001b[0m \u001b[0;34m<\u001b[0m \u001b[0;34m(\u001b[0m\u001b[0;36m1\u001b[0m\u001b[0;34m,\u001b[0m \u001b[0;36m11\u001b[0m\u001b[0;34m,\u001b[0m \u001b[0;36m0\u001b[0m\u001b[0;34m)\u001b[0m\u001b[0;34m:\u001b[0m\u001b[0;34m\u001b[0m\u001b[0;34m\u001b[0m\u001b[0m\n",
      "\u001b[0;31mModuleNotFoundError\u001b[0m: No module named 'cairo'",
      "\nDuring handling of the above exception, another exception occurred:\n",
      "\u001b[0;31mModuleNotFoundError\u001b[0m                       Traceback (most recent call last)",
      "\u001b[0;32m/opt/tljh/user/lib/python3.7/site-packages/matplotlib/backends/backend_cairo.py\u001b[0m in \u001b[0;36m<module>\u001b[0;34m\u001b[0m\n\u001b[1;32m     20\u001b[0m     \u001b[0;32mtry\u001b[0m\u001b[0;34m:\u001b[0m\u001b[0;34m\u001b[0m\u001b[0;34m\u001b[0m\u001b[0m\n\u001b[0;32m---> 21\u001b[0;31m         \u001b[0;32mimport\u001b[0m \u001b[0mcairocffi\u001b[0m \u001b[0;32mas\u001b[0m \u001b[0mcairo\u001b[0m\u001b[0;34m\u001b[0m\u001b[0;34m\u001b[0m\u001b[0m\n\u001b[0m\u001b[1;32m     22\u001b[0m     \u001b[0;32mexcept\u001b[0m \u001b[0mImportError\u001b[0m \u001b[0;32mas\u001b[0m \u001b[0merr\u001b[0m\u001b[0;34m:\u001b[0m\u001b[0;34m\u001b[0m\u001b[0;34m\u001b[0m\u001b[0m\n",
      "\u001b[0;31mModuleNotFoundError\u001b[0m: No module named 'cairocffi'",
      "\nThe above exception was the direct cause of the following exception:\n",
      "\u001b[0;31mImportError\u001b[0m                               Traceback (most recent call last)",
      "\u001b[0;32m<ipython-input-13-6ce0c1454b24>\u001b[0m in \u001b[0;36m<module>\u001b[0;34m\u001b[0m\n\u001b[1;32m      1\u001b[0m \u001b[0mpos\u001b[0m \u001b[0;34m=\u001b[0m \u001b[0mnx\u001b[0m\u001b[0;34m.\u001b[0m\u001b[0mbipartite_layout\u001b[0m\u001b[0;34m(\u001b[0m\u001b[0mG\u001b[0m\u001b[0;34m,\u001b[0m \u001b[0marts\u001b[0m\u001b[0;34m)\u001b[0m\u001b[0;34m\u001b[0m\u001b[0;34m\u001b[0m\u001b[0m\n\u001b[1;32m      2\u001b[0m \u001b[0mnx\u001b[0m\u001b[0;34m.\u001b[0m\u001b[0mdraw\u001b[0m\u001b[0;34m(\u001b[0m\u001b[0mG\u001b[0m\u001b[0;34m,\u001b[0m\u001b[0mpos\u001b[0m\u001b[0;34m,\u001b[0m\u001b[0mnode_size\u001b[0m\u001b[0;34m=\u001b[0m\u001b[0;36m1\u001b[0m\u001b[0;34m)\u001b[0m\u001b[0;34m\u001b[0m\u001b[0;34m\u001b[0m\u001b[0m\n\u001b[0;32m----> 3\u001b[0;31m \u001b[0mplt\u001b[0m\u001b[0;34m.\u001b[0m\u001b[0msavefig\u001b[0m\u001b[0;34m(\u001b[0m\u001b[0;34m'plot/bipartite_net.png'\u001b[0m\u001b[0;34m,\u001b[0m\u001b[0mdpi\u001b[0m \u001b[0;34m=\u001b[0m \u001b[0;36m300\u001b[0m\u001b[0;34m,\u001b[0m\u001b[0mbackend\u001b[0m \u001b[0;34m=\u001b[0m \u001b[0;34m'cairo'\u001b[0m\u001b[0;34m)\u001b[0m\u001b[0;34m\u001b[0m\u001b[0;34m\u001b[0m\u001b[0m\n\u001b[0m",
      "\u001b[0;32m/opt/tljh/user/lib/python3.7/site-packages/matplotlib/pyplot.py\u001b[0m in \u001b[0;36msavefig\u001b[0;34m(*args, **kwargs)\u001b[0m\n\u001b[1;32m    964\u001b[0m \u001b[0;32mdef\u001b[0m \u001b[0msavefig\u001b[0m\u001b[0;34m(\u001b[0m\u001b[0;34m*\u001b[0m\u001b[0margs\u001b[0m\u001b[0;34m,\u001b[0m \u001b[0;34m**\u001b[0m\u001b[0mkwargs\u001b[0m\u001b[0;34m)\u001b[0m\u001b[0;34m:\u001b[0m\u001b[0;34m\u001b[0m\u001b[0;34m\u001b[0m\u001b[0m\n\u001b[1;32m    965\u001b[0m     \u001b[0mfig\u001b[0m \u001b[0;34m=\u001b[0m \u001b[0mgcf\u001b[0m\u001b[0;34m(\u001b[0m\u001b[0;34m)\u001b[0m\u001b[0;34m\u001b[0m\u001b[0;34m\u001b[0m\u001b[0m\n\u001b[0;32m--> 966\u001b[0;31m     \u001b[0mres\u001b[0m \u001b[0;34m=\u001b[0m \u001b[0mfig\u001b[0m\u001b[0;34m.\u001b[0m\u001b[0msavefig\u001b[0m\u001b[0;34m(\u001b[0m\u001b[0;34m*\u001b[0m\u001b[0margs\u001b[0m\u001b[0;34m,\u001b[0m \u001b[0;34m**\u001b[0m\u001b[0mkwargs\u001b[0m\u001b[0;34m)\u001b[0m\u001b[0;34m\u001b[0m\u001b[0;34m\u001b[0m\u001b[0m\n\u001b[0m\u001b[1;32m    967\u001b[0m     \u001b[0mfig\u001b[0m\u001b[0;34m.\u001b[0m\u001b[0mcanvas\u001b[0m\u001b[0;34m.\u001b[0m\u001b[0mdraw_idle\u001b[0m\u001b[0;34m(\u001b[0m\u001b[0;34m)\u001b[0m   \u001b[0;31m# need this if 'transparent=True' to reset colors\u001b[0m\u001b[0;34m\u001b[0m\u001b[0;34m\u001b[0m\u001b[0m\n\u001b[1;32m    968\u001b[0m     \u001b[0;32mreturn\u001b[0m \u001b[0mres\u001b[0m\u001b[0;34m\u001b[0m\u001b[0;34m\u001b[0m\u001b[0m\n",
      "\u001b[0;32m/opt/tljh/user/lib/python3.7/site-packages/matplotlib/figure.py\u001b[0m in \u001b[0;36msavefig\u001b[0;34m(self, fname, transparent, **kwargs)\u001b[0m\n\u001b[1;32m   3013\u001b[0m                 \u001b[0mpatch\u001b[0m\u001b[0;34m.\u001b[0m\u001b[0mset_edgecolor\u001b[0m\u001b[0;34m(\u001b[0m\u001b[0;34m'none'\u001b[0m\u001b[0;34m)\u001b[0m\u001b[0;34m\u001b[0m\u001b[0;34m\u001b[0m\u001b[0m\n\u001b[1;32m   3014\u001b[0m \u001b[0;34m\u001b[0m\u001b[0m\n\u001b[0;32m-> 3015\u001b[0;31m         \u001b[0mself\u001b[0m\u001b[0;34m.\u001b[0m\u001b[0mcanvas\u001b[0m\u001b[0;34m.\u001b[0m\u001b[0mprint_figure\u001b[0m\u001b[0;34m(\u001b[0m\u001b[0mfname\u001b[0m\u001b[0;34m,\u001b[0m \u001b[0;34m**\u001b[0m\u001b[0mkwargs\u001b[0m\u001b[0;34m)\u001b[0m\u001b[0;34m\u001b[0m\u001b[0;34m\u001b[0m\u001b[0m\n\u001b[0m\u001b[1;32m   3016\u001b[0m \u001b[0;34m\u001b[0m\u001b[0m\n\u001b[1;32m   3017\u001b[0m         \u001b[0;32mif\u001b[0m \u001b[0mtransparent\u001b[0m\u001b[0;34m:\u001b[0m\u001b[0;34m\u001b[0m\u001b[0;34m\u001b[0m\u001b[0m\n",
      "\u001b[0;32m/opt/tljh/user/lib/python3.7/site-packages/matplotlib/backend_bases.py\u001b[0m in \u001b[0;36mprint_figure\u001b[0;34m(self, filename, dpi, facecolor, edgecolor, orientation, format, bbox_inches, pad_inches, bbox_extra_artists, backend, **kwargs)\u001b[0m\n\u001b[1;32m   2184\u001b[0m \u001b[0;34m\u001b[0m\u001b[0m\n\u001b[1;32m   2185\u001b[0m         \u001b[0;31m# get canvas object and print method for format\u001b[0m\u001b[0;34m\u001b[0m\u001b[0;34m\u001b[0m\u001b[0;34m\u001b[0m\u001b[0m\n\u001b[0;32m-> 2186\u001b[0;31m         \u001b[0mcanvas\u001b[0m \u001b[0;34m=\u001b[0m \u001b[0mself\u001b[0m\u001b[0;34m.\u001b[0m\u001b[0m_get_output_canvas\u001b[0m\u001b[0;34m(\u001b[0m\u001b[0mbackend\u001b[0m\u001b[0;34m,\u001b[0m \u001b[0mformat\u001b[0m\u001b[0;34m)\u001b[0m\u001b[0;34m\u001b[0m\u001b[0;34m\u001b[0m\u001b[0m\n\u001b[0m\u001b[1;32m   2187\u001b[0m         \u001b[0mprint_method\u001b[0m \u001b[0;34m=\u001b[0m \u001b[0mgetattr\u001b[0m\u001b[0;34m(\u001b[0m\u001b[0mcanvas\u001b[0m\u001b[0;34m,\u001b[0m \u001b[0;34m'print_%s'\u001b[0m \u001b[0;34m%\u001b[0m \u001b[0mformat\u001b[0m\u001b[0;34m)\u001b[0m\u001b[0;34m\u001b[0m\u001b[0;34m\u001b[0m\u001b[0m\n\u001b[1;32m   2188\u001b[0m \u001b[0;34m\u001b[0m\u001b[0m\n",
      "\u001b[0;32m/opt/tljh/user/lib/python3.7/site-packages/matplotlib/backend_bases.py\u001b[0m in \u001b[0;36m_get_output_canvas\u001b[0;34m(self, backend, fmt)\u001b[0m\n\u001b[1;32m   2099\u001b[0m             \u001b[0;31m# Return a specific canvas class, if requested.\u001b[0m\u001b[0;34m\u001b[0m\u001b[0;34m\u001b[0m\u001b[0;34m\u001b[0m\u001b[0m\n\u001b[1;32m   2100\u001b[0m             canvas_class = (\n\u001b[0;32m-> 2101\u001b[0;31m                 \u001b[0mimportlib\u001b[0m\u001b[0;34m.\u001b[0m\u001b[0mimport_module\u001b[0m\u001b[0;34m(\u001b[0m\u001b[0mcbook\u001b[0m\u001b[0;34m.\u001b[0m\u001b[0m_backend_module_name\u001b[0m\u001b[0;34m(\u001b[0m\u001b[0mbackend\u001b[0m\u001b[0;34m)\u001b[0m\u001b[0;34m)\u001b[0m\u001b[0;34m\u001b[0m\u001b[0;34m\u001b[0m\u001b[0m\n\u001b[0m\u001b[1;32m   2102\u001b[0m                 .FigureCanvas)\n\u001b[1;32m   2103\u001b[0m             \u001b[0;32mif\u001b[0m \u001b[0;32mnot\u001b[0m \u001b[0mhasattr\u001b[0m\u001b[0;34m(\u001b[0m\u001b[0mcanvas_class\u001b[0m\u001b[0;34m,\u001b[0m \u001b[0;34mf\"print_{fmt}\"\u001b[0m\u001b[0;34m)\u001b[0m\u001b[0;34m:\u001b[0m\u001b[0;34m\u001b[0m\u001b[0;34m\u001b[0m\u001b[0m\n",
      "\u001b[0;32m/opt/tljh/user/lib/python3.7/importlib/__init__.py\u001b[0m in \u001b[0;36mimport_module\u001b[0;34m(name, package)\u001b[0m\n\u001b[1;32m    125\u001b[0m                 \u001b[0;32mbreak\u001b[0m\u001b[0;34m\u001b[0m\u001b[0;34m\u001b[0m\u001b[0m\n\u001b[1;32m    126\u001b[0m             \u001b[0mlevel\u001b[0m \u001b[0;34m+=\u001b[0m \u001b[0;36m1\u001b[0m\u001b[0;34m\u001b[0m\u001b[0;34m\u001b[0m\u001b[0m\n\u001b[0;32m--> 127\u001b[0;31m     \u001b[0;32mreturn\u001b[0m \u001b[0m_bootstrap\u001b[0m\u001b[0;34m.\u001b[0m\u001b[0m_gcd_import\u001b[0m\u001b[0;34m(\u001b[0m\u001b[0mname\u001b[0m\u001b[0;34m[\u001b[0m\u001b[0mlevel\u001b[0m\u001b[0;34m:\u001b[0m\u001b[0;34m]\u001b[0m\u001b[0;34m,\u001b[0m \u001b[0mpackage\u001b[0m\u001b[0;34m,\u001b[0m \u001b[0mlevel\u001b[0m\u001b[0;34m)\u001b[0m\u001b[0;34m\u001b[0m\u001b[0;34m\u001b[0m\u001b[0m\n\u001b[0m\u001b[1;32m    128\u001b[0m \u001b[0;34m\u001b[0m\u001b[0m\n\u001b[1;32m    129\u001b[0m \u001b[0;34m\u001b[0m\u001b[0m\n",
      "\u001b[0;32m/opt/tljh/user/lib/python3.7/importlib/_bootstrap.py\u001b[0m in \u001b[0;36m_gcd_import\u001b[0;34m(name, package, level)\u001b[0m\n",
      "\u001b[0;32m/opt/tljh/user/lib/python3.7/importlib/_bootstrap.py\u001b[0m in \u001b[0;36m_find_and_load\u001b[0;34m(name, import_)\u001b[0m\n",
      "\u001b[0;32m/opt/tljh/user/lib/python3.7/importlib/_bootstrap.py\u001b[0m in \u001b[0;36m_find_and_load_unlocked\u001b[0;34m(name, import_)\u001b[0m\n",
      "\u001b[0;32m/opt/tljh/user/lib/python3.7/importlib/_bootstrap.py\u001b[0m in \u001b[0;36m_load_unlocked\u001b[0;34m(spec)\u001b[0m\n",
      "\u001b[0;32m/opt/tljh/user/lib/python3.7/importlib/_bootstrap_external.py\u001b[0m in \u001b[0;36mexec_module\u001b[0;34m(self, module)\u001b[0m\n",
      "\u001b[0;32m/opt/tljh/user/lib/python3.7/importlib/_bootstrap.py\u001b[0m in \u001b[0;36m_call_with_frames_removed\u001b[0;34m(f, *args, **kwds)\u001b[0m\n",
      "\u001b[0;32m/opt/tljh/user/lib/python3.7/site-packages/matplotlib/backends/backend_cairo.py\u001b[0m in \u001b[0;36m<module>\u001b[0;34m\u001b[0m\n\u001b[1;32m     23\u001b[0m         raise ImportError(\n\u001b[1;32m     24\u001b[0m             \u001b[0;34m\"cairo backend requires that pycairo>=1.11.0 or cairocffi \"\u001b[0m\u001b[0;34m\u001b[0m\u001b[0;34m\u001b[0m\u001b[0m\n\u001b[0;32m---> 25\u001b[0;31m             \"is installed\") from err\n\u001b[0m\u001b[1;32m     26\u001b[0m \u001b[0;34m\u001b[0m\u001b[0m\n\u001b[1;32m     27\u001b[0m \u001b[0;32mimport\u001b[0m \u001b[0mmatplotlib\u001b[0m \u001b[0;32mas\u001b[0m \u001b[0mmpl\u001b[0m\u001b[0;34m\u001b[0m\u001b[0;34m\u001b[0m\u001b[0m\n",
      "\u001b[0;31mImportError\u001b[0m: cairo backend requires that pycairo>=1.11.0 or cairocffi is installed"
     ]
    },
    {
     "data": {
      "image/png": "[encoded data removed]",
      "text/plain": [
       "<Figure size 432x288 with 1 Axes>"
      ]
     },
     "metadata": {},
     "output_type": "display_data"
    }
   ],
   "source": [
    "pos = nx.bipartite_layout(G, arts)\n",
    "nx.draw(G,pos,node_size=1)\n",
    "plt.savefig('plot/bipartite_net.png',dpi = 300,backend = 'cairo')"
   ]
  },
  {
   "cell_type": "code",
   "execution_count": 36,
   "id": "20aab6e7-532b-488e-a4c6-39be9f9b991e",
   "metadata": {},
   "outputs": [],
   "source": [
    "A = bipartite.projected_graph(G,arts, multigraph=False)"
   ]
  },
  {
   "cell_type": "code",
   "execution_count": null,
   "id": "9702f033-9346-4dc0-a165-48c07dcfe179",
   "metadata": {},
   "outputs": [],
   "source": [
    "U = bipartite.projected_graph(G,users, multigraph=False)"
   ]
  },
  {
   "cell_type": "code",
   "execution_count": 16,
   "id": "9809cd69-f52b-45d9-b218-df9651ae47d8",
   "metadata": {},
   "outputs": [
    {
     "data": {
      "text/plain": [
       "(10, 51848618)"
      ]
     },
     "execution_count": 16,
     "metadata": {},
     "output_type": "execute_result"
    }
   ],
   "source": [
    "len(A.edges), len(U.edges)"
   ]
  },
  {
   "cell_type": "code",
   "execution_count": 19,
   "id": "b48d40a1-60b4-41a1-a2d3-202e4e073d71",
   "metadata": {},
   "outputs": [],
   "source": [
    "#pos = nx.circular_layout(A)\n",
    "pos = nx.kamada_kawai_layout(A)\n",
    "#pos = nx.spring_layout(A)"
   ]
  },
  {
   "cell_type": "code",
   "execution_count": 22,
   "id": "043ae980-2954-4b5f-8cbb-1915261edc90",
   "metadata": {},
   "outputs": [
    {
     "data": {
      "image/png": "[encoded data removed]",
      "text/plain": [
       "<Figure size 432x288 with 1 Axes>"
      ]
     },
     "metadata": {},
     "output_type": "display_data"
    }
   ],
   "source": [
    "nx.draw(A,pos,node_size=10)\n",
    "#plt.savefig('plot/project_net_arts.png',dpi = 300,backend = 'cairo')\n",
    "plt.savefig('plot/project_net_arts.png',dpi = 300)"
   ]
  },
  {
   "cell_type": "code",
   "execution_count": 19,
   "id": "be1cdbe0-5279-43fe-86a7-4c3b6d3cb178",
   "metadata": {},
   "outputs": [],
   "source": [
    "pos = nx.circular_layout(U)\n",
    "#pos = nx.kamada_kawai_layout(U)\n",
    "#pos = nx.spring_layout(U)"
   ]
  },
  {
   "cell_type": "code",
   "execution_count": 20,
   "id": "e69c8660-e829-41d4-89c2-a09965d03b19",
   "metadata": {},
   "outputs": [
    {
     "name": "stderr",
     "output_type": "stream",
     "text": [
      "\n",
      "KeyboardInterrupt\n",
      "\n"
     ]
    },
    {
     "name": "stdout",
     "output_type": "stream",
     "text": [
      "Error in callback <function flush_figures at 0x7fc08fd40310> (for post_execute):\n"
     ]
    },
    {
     "name": "stderr",
     "output_type": "stream",
     "text": [
      "\n",
      "KeyboardInterrupt\n",
      "\n"
     ]
    }
   ],
   "source": [
    "nx.draw(U,pos,node_size=10)\n",
    "plt.savefig('plot/project_net_arts.png',dpi = 300,backend = 'cairo')"
   ]
  },
  {
   "cell_type": "markdown",
   "id": "8bd2049d-0bfe-48fa-9dd2-b80c03d80722",
   "metadata": {},
   "source": [
    "# analisi del network"
   ]
  },
  {
   "cell_type": "markdown",
   "id": "91cb6bc1-761a-4b6c-af98-010bc9e7b8ce",
   "metadata": {},
   "source": [
    "### density"
   ]
  },
  {
   "cell_type": "code",
   "execution_count": 23,
   "id": "35746958-27a2-4f34-8c18-babb915b3661",
   "metadata": {},
   "outputs": [
    {
     "data": {
      "text/plain": [
       "(0.35714285714285715, 0.3410348330292035)"
      ]
     },
     "execution_count": 23,
     "metadata": {},
     "output_type": "execute_result"
    }
   ],
   "source": [
    "def density(G):\n",
    "    return 2* G.number_of_edges()/(G.number_of_nodes() * (G.number_of_nodes() - 1))\n",
    "density(A), density(U)"
   ]
  },
  {
   "cell_type": "markdown",
   "id": "23a14768-0462-40b2-b522-d3f9134cc23b",
   "metadata": {},
   "source": [
    "### distribuzione di grado"
   ]
  },
  {
   "cell_type": "code",
   "execution_count": 26,
   "id": "917ac785-de71-4504-ac47-2c0751429ee0",
   "metadata": {},
   "outputs": [
    {
     "name": "stdout",
     "output_type": "stream",
     "text": [
      "Counter({9083: 9059, 3678: 3663, 2311: 2287, 1359: 1347, 571: 571, 359: 357, 93: 92, 19: 19, 11380: 15, 5980: 10, 10437: 6, 5035: 3, 12759: 3, 1451: 2, 378: 1, 1718: 1, 9442: 1, 1930: 1})\n"
     ]
    },
    {
     "data": {
      "text/plain": [
       "(1.0, 10000.0, 1e-05, 1.0)"
      ]
     },
     "execution_count": 26,
     "metadata": {},
     "output_type": "execute_result"
    },
    {
     "data": {
      "image/png": "[encoded data removed]",
      "text/plain": [
       "<Figure size 720x504 with 1 Axes>"
      ]
     },
     "metadata": {
      "needs_background": "light"
     },
     "output_type": "display_data"
    }
   ],
   "source": [
    "from collections import Counter \n",
    "import matplotlib.pyplot as plt\n",
    "\n",
    "indeg=dict(U.degree()).values()\n",
    "degin_distri=Counter(indeg)\n",
    "print(degin_distri)\n",
    "\n",
    "\n",
    "x=[]\n",
    "y=[]\n",
    "\n",
    "for i in sorted(degin_distri):   \n",
    "    x.append(i)\n",
    "    y.append(degin_distri[i]/len(U))\n",
    "\n",
    "plt.figure(figsize=(10,7))    \n",
    "plt.plot(x,y)\n",
    "\n",
    "plt.xlabel('$k_{in}$', fontsize=18)\n",
    "plt.ylabel('$P(k_{in})$', fontsize=18)\n",
    "\n",
    "plt.xticks(fontsize=14)\n",
    "plt.yticks(fontsize=14)\n",
    "\n",
    "plt.yscale('linear')\n",
    "plt.xscale('log')\n",
    "plt.axis([1,10000,0.00001,1.0])"
   ]
  },
  {
   "cell_type": "code",
   "execution_count": null,
   "id": "615d65c1-a5a3-441a-b4b8-c6a838f713ee",
   "metadata": {},
   "outputs": [],
   "source": [
    "### clustering"
   ]
  },
  {
   "cell_type": "code",
   "execution_count": null,
   "id": "ce8905bd-9b95-4e0b-8253-936bf977c2be",
   "metadata": {},
   "outputs": [],
   "source": [
    "### "
   ]
  },
  {
   "cell_type": "code",
   "execution_count": null,
   "id": "b8741026-7fa7-4858-a041-cdd9c697460a",
   "metadata": {},
   "outputs": [],
   "source": []
  }
 ],
 "metadata": {
  "kernelspec": {
   "display_name": "Python 3",
   "language": "python",
   "name": "python3"
  },
  "language_info": {
   "codemirror_mode": {
    "name": "ipython",
    "version": 3
   },
   "file_extension": ".py",
   "mimetype": "text/x-python",
   "name": "python",
   "nbconvert_exporter": "python",
   "pygments_lexer": "ipython3",
   "version": "3.7.3"
  }
 },
 "nbformat": 4,
 "nbformat_minor": 5
}
