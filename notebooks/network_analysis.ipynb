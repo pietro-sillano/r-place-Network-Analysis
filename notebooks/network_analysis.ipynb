{
 "cells": [
  {
   "cell_type": "code",
   "execution_count": 2,
   "id": "f3d96157-3299-4f87-9085-00d0845bdcaf",
   "metadata": {},
   "outputs": [],
   "source": [
    "import pandas as pd\n",
    "import matplotlib.pyplot as plt\n",
    "import numpy as np\n",
    "import itertools\n",
    "import networkx as nx"
   ]
  },
  {
   "cell_type": "code",
   "execution_count": 3,
   "id": "ca0fa2f2-6cc5-4f2a-9b6c-92b850116cce",
   "metadata": {},
   "outputs": [],
   "source": [
    "df = pd.read_csv(\"78.csv\")"
   ]
  },
  {
   "cell_type": "code",
   "execution_count": 34,
   "id": "f91c7f33-0f53-4b49-8a0d-d4e99eb23d80",
   "metadata": {},
   "outputs": [],
   "source": [
    "x  = []\n",
    "y  = []\n",
    "for line in df['coordinate']:\n",
    "    xc,yc = line.split(\",\")\n",
    "    x.append(int(xc))\n",
    "    y.append(int(yc))\n",
    "    \n",
    "df.insert(4, \"xcoord\", x, True)\n",
    "df.insert(5, \"ycoord\", y, True)"
   ]
  },
  {
   "cell_type": "code",
   "execution_count": 5,
   "id": "72abb133-0a2f-4c4d-961e-9061ae8e2063",
   "metadata": {},
   "outputs": [
    {
     "data": {
      "text/plain": [
       "1004894"
      ]
     },
     "execution_count": 5,
     "metadata": {},
     "output_type": "execute_result"
    }
   ],
   "source": [
    "len(df['user_id'].unique())"
   ]
  },
  {
   "cell_type": "code",
   "execution_count": 36,
   "id": "42904de8-a5a7-450e-8523-1593db9e7838",
   "metadata": {},
   "outputs": [],
   "source": [
    "df.user_id = pd.Categorical(df.user_id)\n",
    "df['user_id'] = df.user_id.cat.codes\n",
    "number_user = len(df['user_id'].unique())"
   ]
  },
  {
   "cell_type": "code",
   "execution_count": null,
   "id": "b74fc9a0-2112-40b4-bbf6-a63ffcb9ac95",
   "metadata": {},
   "outputs": [],
   "source": [
    "plt.bar(df['pixel_color'].unique(),df['pixel_color'].value_counts(),align='center')\n",
    "plt.xticks(rotation=90)"
   ]
  },
  {
   "cell_type": "code",
   "execution_count": 38,
   "id": "63f00306-0d5d-4288-a0cb-04c436fcbe32",
   "metadata": {},
   "outputs": [
    {
     "data": {
      "text/plain": [
       "1071355"
      ]
     },
     "execution_count": 38,
     "metadata": {},
     "output_type": "execute_result"
    }
   ],
   "source": [
    "number_user = len(df['user_id'].unique())\n",
    "number_user"
   ]
  },
  {
   "cell_type": "markdown",
   "id": "acb07d89-73fd-49ab-a292-1bf7be280b8e",
   "metadata": {},
   "source": [
    "# Analisi iniziale"
   ]
  },
  {
   "cell_type": "code",
   "execution_count": 39,
   "id": "24559292-e3f0-4f06-ad1b-76c6910305bb",
   "metadata": {},
   "outputs": [
    {
     "data": {
      "text/plain": [
       "(array([5.07317058e-01, 2.01024767e-01, 1.31892168e-01, 1.10063113e-01,\n",
       "        8.51424390e-02, 5.44139586e-02, 1.97123165e-02, 1.53595732e-03,\n",
       "        8.29686601e-06, 1.03710825e-06]),\n",
       " array([ 1. ,  1.9,  2.8,  3.7,  4.6,  5.5,  6.4,  7.3,  8.2,  9.1, 10. ]),\n",
       " <BarContainer object of 10 artists>)"
      ]
     },
     "execution_count": 39,
     "metadata": {},
     "output_type": "execute_result"
    },
    {
     "data": {
      "image/png": "[encoded data removed]",
      "text/plain": [
       "<Figure size 432x288 with 1 Axes>"
      ]
     },
     "metadata": {
      "needs_background": "light"
     },
     "output_type": "display_data"
    }
   ],
   "source": [
    "plt.hist(df['user_id'].value_counts(),density=True, facecolor='g', alpha=0.75)"
   ]
  },
  {
   "cell_type": "code",
   "execution_count": 40,
   "id": "3acf63d5-1354-4d7c-b416-7a1a47c972f3",
   "metadata": {},
   "outputs": [
    {
     "data": {
      "text/plain": [
       "554432"
      ]
     },
     "execution_count": 40,
     "metadata": {},
     "output_type": "execute_result"
    }
   ],
   "source": [
    "len(df['coordinate'].unique())"
   ]
  },
  {
   "cell_type": "code",
   "execution_count": 41,
   "id": "f450647d-50a7-44cf-94f7-48ab5febc246",
   "metadata": {},
   "outputs": [],
   "source": [
    "df2 = df[['user_id','xcoord','ycoord']]\n",
    "df2 = df2.sort_values('user_id')"
   ]
  },
  {
   "cell_type": "code",
   "execution_count": 42,
   "id": "362c179a-54f9-4392-abcb-d4ec234cd5d3",
   "metadata": {},
   "outputs": [
    {
     "data": {
      "text/plain": [
       "554432"
      ]
     },
     "execution_count": 42,
     "metadata": {},
     "output_type": "execute_result"
    }
   ],
   "source": [
    "len(df['coordinate'].value_counts())"
   ]
  },
  {
   "cell_type": "code",
   "execution_count": 43,
   "id": "1d87acb6-b023-4b59-a9a1-ab571b876b14",
   "metadata": {},
   "outputs": [
    {
     "data": {
      "text/plain": [
       "'0,0'"
      ]
     },
     "execution_count": 43,
     "metadata": {},
     "output_type": "execute_result"
    }
   ],
   "source": [
    "min(df['coordinate'])"
   ]
  },
  {
   "cell_type": "code",
   "execution_count": null,
   "id": "e68c7db6-0240-4b25-acdf-f78cf620635e",
   "metadata": {},
   "outputs": [],
   "source": []
  },
  {
   "cell_type": "markdown",
   "id": "76ae2b4c-ff91-431d-9953-77b505474be9",
   "metadata": {},
   "source": [
    "# creazione matrice adiacenza"
   ]
  },
  {
   "cell_type": "code",
   "execution_count": 44,
   "id": "b9da870b-3fe3-44b8-90c4-22f6cd4a494d",
   "metadata": {},
   "outputs": [
    {
     "data": {
      "text/html": [
       "<div>\n",
       "<style scoped>\n",
       "    .dataframe tbody tr th:only-of-type {\n",
       "        vertical-align: middle;\n",
       "    }\n",
       "\n",
       "    .dataframe tbody tr th {\n",
       "        vertical-align: top;\n",
       "    }\n",
       "\n",
       "    .dataframe thead th {\n",
       "        text-align: right;\n",
       "    }\n",
       "</style>\n",
       "<table border=\"1\" class=\"dataframe\">\n",
       "  <thead>\n",
       "    <tr style=\"text-align: right;\">\n",
       "      <th></th>\n",
       "      <th>user_id</th>\n",
       "      <th>xcoord</th>\n",
       "      <th>ycoord</th>\n",
       "    </tr>\n",
       "  </thead>\n",
       "  <tbody>\n",
       "    <tr>\n",
       "      <th>1910351</th>\n",
       "      <td>0</td>\n",
       "      <td>348</td>\n",
       "      <td>394</td>\n",
       "    </tr>\n",
       "    <tr>\n",
       "      <th>1050775</th>\n",
       "      <td>0</td>\n",
       "      <td>1020</td>\n",
       "      <td>188</td>\n",
       "    </tr>\n",
       "    <tr>\n",
       "      <th>1476973</th>\n",
       "      <td>0</td>\n",
       "      <td>744</td>\n",
       "      <td>198</td>\n",
       "    </tr>\n",
       "    <tr>\n",
       "      <th>2292777</th>\n",
       "      <td>0</td>\n",
       "      <td>767</td>\n",
       "      <td>229</td>\n",
       "    </tr>\n",
       "    <tr>\n",
       "      <th>2376217</th>\n",
       "      <td>1</td>\n",
       "      <td>1016</td>\n",
       "      <td>1914</td>\n",
       "    </tr>\n",
       "    <tr>\n",
       "      <th>...</th>\n",
       "      <td>...</td>\n",
       "      <td>...</td>\n",
       "      <td>...</td>\n",
       "    </tr>\n",
       "    <tr>\n",
       "      <th>1800120</th>\n",
       "      <td>1071352</td>\n",
       "      <td>764</td>\n",
       "      <td>173</td>\n",
       "    </tr>\n",
       "    <tr>\n",
       "      <th>1041843</th>\n",
       "      <td>1071352</td>\n",
       "      <td>944</td>\n",
       "      <td>192</td>\n",
       "    </tr>\n",
       "    <tr>\n",
       "      <th>2309956</th>\n",
       "      <td>1071352</td>\n",
       "      <td>744</td>\n",
       "      <td>177</td>\n",
       "    </tr>\n",
       "    <tr>\n",
       "      <th>68200</th>\n",
       "      <td>1071353</td>\n",
       "      <td>983</td>\n",
       "      <td>571</td>\n",
       "    </tr>\n",
       "    <tr>\n",
       "      <th>1832080</th>\n",
       "      <td>1071354</td>\n",
       "      <td>103</td>\n",
       "      <td>1787</td>\n",
       "    </tr>\n",
       "  </tbody>\n",
       "</table>\n",
       "<p>2553109 rows × 3 columns</p>\n",
       "</div>"
      ],
      "text/plain": [
       "         user_id  xcoord  ycoord\n",
       "1910351        0     348     394\n",
       "1050775        0    1020     188\n",
       "1476973        0     744     198\n",
       "2292777        0     767     229\n",
       "2376217        1    1016    1914\n",
       "...          ...     ...     ...\n",
       "1800120  1071352     764     173\n",
       "1041843  1071352     944     192\n",
       "2309956  1071352     744     177\n",
       "68200    1071353     983     571\n",
       "1832080  1071354     103    1787\n",
       "\n",
       "[2553109 rows x 3 columns]"
      ]
     },
     "execution_count": 44,
     "metadata": {},
     "output_type": "execute_result"
    }
   ],
   "source": [
    "df2.set_index(\"user_id\")\n",
    "df2"
   ]
  },
  {
   "cell_type": "code",
   "execution_count": 45,
   "id": "f8a9d85e-04a3-422f-bee5-86d7e60517ff",
   "metadata": {},
   "outputs": [],
   "source": [
    "pixel = {}\n",
    "for row in df2.itertuples():\n",
    "    user = row.Index\n",
    "    x = row.xcoord\n",
    "    y = row.ycoord\n",
    "    if (x,y) in pixel:\n",
    "        pixel[(x,y)].append(user)\n",
    "    else: \n",
    "        pixel[(x,y)] = [user]"
   ]
  },
  {
   "cell_type": "code",
   "execution_count": 46,
   "id": "46da2143-55ef-49f5-982f-f74b03782410",
   "metadata": {},
   "outputs": [
    {
     "name": "stdout",
     "output_type": "stream",
     "text": [
      "32835065\n"
     ]
    }
   ],
   "source": [
    "f = open(\"data.txt\", \"w\")\n",
    "cnt = 0\n",
    "for pix in pixel:\n",
    "    #print('questo é il primo pixel: ',pix)\n",
    "    #print('questo sono gli utenti che hanno modificato il pixel',pixel[pix])\n",
    "    \n",
    "    for (user1,user2) in list(itertools.combinations(pixel[pix], 2)):\n",
    "        f.write(str(user1) + ',' + str(user2) + '\\n')\n",
    "        cnt += 1\n",
    "        \n",
    "        \n",
    "f.close()    \n",
    "print(cnt)"
   ]
  },
  {
   "cell_type": "markdown",
   "id": "c6023be4-8cf9-49bb-aa81-9d0bbe777f09",
   "metadata": {},
   "source": [
    "32M di link"
   ]
  },
  {
   "cell_type": "markdown",
   "id": "aa9fb956-ffb2-415d-bdd7-d06982708bfa",
   "metadata": {},
   "source": [
    "# importa il file"
   ]
  },
  {
   "cell_type": "code",
   "execution_count": 47,
   "id": "ebec524c-e63e-4de5-b533-fe9d7503fac4",
   "metadata": {},
   "outputs": [],
   "source": [
    "filepath='./matrix.txt'"
   ]
  },
  {
   "cell_type": "code",
   "execution_count": 48,
   "id": "3cba3709-ec1f-4ce9-af3f-669a2a17ab43",
   "metadata": {},
   "outputs": [],
   "source": [
    "fh=open(filepath,'r')"
   ]
  },
  {
   "cell_type": "code",
   "execution_count": 49,
   "id": "0f0b3d48-6ed8-4650-b736-be9ef3b72091",
   "metadata": {},
   "outputs": [],
   "source": [
    "s=fh.readlines()"
   ]
  },
  {
   "cell_type": "code",
   "execution_count": 4,
   "id": "0c0249e0-1ff7-4ff0-90ab-245e378f6efa",
   "metadata": {},
   "outputs": [
    {
     "data": {
      "text/plain": [
       "['272046,92142']"
      ]
     },
     "execution_count": 4,
     "metadata": {},
     "output_type": "execute_result"
    }
   ],
   "source": [
    "s[10].strip().split()"
   ]
  },
  {
   "cell_type": "code",
   "execution_count": 50,
   "id": "666eea91-1364-41b8-8a98-a76dc0fb008f",
   "metadata": {},
   "outputs": [],
   "source": [
    "G=nx.Graph()"
   ]
  },
  {
   "cell_type": "code",
   "execution_count": null,
   "id": "265c2756-b08f-4157-9d2f-ac11e6f62278",
   "metadata": {},
   "outputs": [],
   "source": [
    "fh=open(filepath,'r')\n",
    "\n",
    "#reading all the file lines\n",
    "for line in fh.readlines():\n",
    "    #remove \"\\n\" characters (.strip()) and split the line at blank spaces (split.())\n",
    "    s=line.strip().split(\",\")\n",
    "    if s[0]!='#':\n",
    "        #the first lines are comments\n",
    "        origin=int(s[0])\n",
    "        dest=int(s[1])\n",
    "        \n",
    "        G.add_edge(origin,dest)\n",
    "    \n",
    "#chiudo il file\n",
    "fh.close()"
   ]
  },
  {
   "cell_type": "code",
   "execution_count": 9,
   "id": "c14860a3-9937-411f-8b1a-9edfe574e5e9",
   "metadata": {},
   "outputs": [
    {
     "name": "stdout",
     "output_type": "stream",
     "text": [
      "The network has 864920 nodes\n"
     ]
    }
   ],
   "source": [
    "print(\"The network has\", len(G), \"nodes\")"
   ]
  },
  {
   "cell_type": "code",
   "execution_count": 10,
   "id": "2a962eee-153a-4aab-ae5d-d3c077a7beed",
   "metadata": {},
   "outputs": [
    {
     "name": "stdout",
     "output_type": "stream",
     "text": [
      "The network has 5156554 edges\n"
     ]
    }
   ],
   "source": [
    "print(\"The network has\", len(G.edges()), \"edges\")"
   ]
  },
  {
   "cell_type": "code",
   "execution_count": 18,
   "id": "0f7559e2-ca12-4a64-8401-f8fc85377e18",
   "metadata": {},
   "outputs": [],
   "source": [
    "deg=dict(G.degree()).values()"
   ]
  },
  {
   "cell_type": "code",
   "execution_count": 19,
   "id": "7914f769-a741-4b96-a4a2-cc4ad1864121",
   "metadata": {},
   "outputs": [
    {
     "name": "stdout",
     "output_type": "stream",
     "text": [
      "Counter({1: 240384, 2: 146412, 3: 95812, 4: 64835, 5: 46158, 6: 34587, 7: 25400, 8: 20322, 9: 15620, 10: 13002, 11: 12156, 12: 9906, 13: 8414, 14: 7185, 15: 6032, 16: 5746, 17: 5580, 18: 4864, 19: 4020, 20: 3990, 21: 3894, 22: 3358, 23: 3120, 24: 2875, 27: 2828, 26: 2538, 25: 2522, 29: 2190, 30: 1891, 28: 1827, 32: 1749, 31: 1696, 33: 1666, 35: 1620, 36: 1480, 34: 1435, 43: 1364, 50: 1224, 42: 1204, 41: 1134, 57: 1102, 40: 1066, 51: 1040, 38: 1014, 62: 1008, 44: 990, 37: 988, 46: 987, 58: 944, 55: 896, 39: 880, 53: 810, 72: 803, 64: 780, 59: 780, 47: 768, 49: 750, 45: 736, 54: 715, 52: 689, 48: 686, 78: 632, 61: 620, 65: 594, 94: 570, 56: 570, 79: 560, 91: 552, 77: 546, 74: 525, 73: 518, 126: 508, 82: 498, 70: 497, 81: 492, 69: 490, 473: 474, 66: 469, 109: 440, 438: 439, 107: 432, 85: 430, 60: 427, 105: 424, 205: 412, 100: 404, 394: 395, 97: 392, 96: 388, 63: 384, 379: 380, 376: 377, 90: 364, 179: 360, 115: 348, 171: 344, 342: 343, 67: 340, 335: 336, 167: 336, 103: 312, 102: 309, 304: 305, 302: 303, 149: 300, 148: 298, 147: 296, 145: 292, 144: 290, 143: 288, 68: 276, 269: 270, 89: 270, 267: 268, 88: 267, 87: 264, 260: 261, 128: 258, 84: 255, 125: 252, 249: 250, 123: 248, 247: 248, 122: 246, 121: 244, 80: 243, 242: 243, 120: 242, 119: 240, 116: 234, 230: 231, 112: 226, 222: 223, 220: 221, 217: 218, 108: 218, 71: 216, 215: 216, 211: 212, 104: 210, 99: 200, 98: 198, 195: 196, 191: 192, 190: 191, 188: 189, 185: 186, 184: 185, 183: 184, 181: 182, 180: 181, 174: 175, 86: 174, 83: 168, 163: 164, 162: 163, 160: 161, 158: 159, 157: 158, 156: 157, 154: 155, 153: 154, 152: 153, 151: 152, 150: 151, 146: 147, 142: 143, 138: 139, 136: 137, 134: 135, 131: 132, 129: 130, 127: 128, 124: 125, 117: 118, 114: 115, 113: 114, 111: 112, 110: 111, 101: 102, 95: 96, 93: 94, 92: 93, 75: 76})\n"
     ]
    }
   ],
   "source": [
    "from collections import Counter \n",
    "\n",
    "deg_distri=Counter(deg)\n",
    "print(deg_distri)"
   ]
  },
  {
   "cell_type": "code",
   "execution_count": 20,
   "id": "91ccf8b5-0fca-4c63-863c-64164840b6ce",
   "metadata": {},
   "outputs": [
    {
     "data": {
      "text/plain": [
       "(1.0, 10000.0, 1e-05, 1.0)"
      ]
     },
     "execution_count": 20,
     "metadata": {},
     "output_type": "execute_result"
    },
    {
     "data": {
      "image/png": "[encoded data removed]",
      "text/plain": [
       "<Figure size 720x504 with 1 Axes>"
      ]
     },
     "metadata": {
      "needs_background": "light"
     },
     "output_type": "display_data"
    }
   ],
   "source": [
    "x=[]\n",
    "y=[]\n",
    "\n",
    "for i in sorted(deg_distri):   \n",
    "    x.append(i)\n",
    "    y.append(deg_distri[i]/len(G))\n",
    "\n",
    "plt.figure(figsize=(10,7))    \n",
    "plt.plot(x,y)\n",
    "\n",
    "plt.xlabel('$k_{in}$', fontsize=18)\n",
    "plt.ylabel('$P(k_{in})$', fontsize=18)\n",
    "\n",
    "plt.xticks(fontsize=14)\n",
    "plt.yticks(fontsize=14)\n",
    "\n",
    "plt.yscale('log')\n",
    "plt.xscale('log')\n",
    "plt.axis([1,10000,0.00001,1.0])"
   ]
  },
  {
   "cell_type": "code",
   "execution_count": null,
   "id": "fb032c31-31b7-456e-9492-44d715c64724",
   "metadata": {},
   "outputs": [],
   "source": [
    "plt.figure(figsize=(10,10))\n",
    "#nx.draw_networkx(G)\n",
    "plt.axis('off')"
   ]
  },
  {
   "cell_type": "code",
   "execution_count": 22,
   "id": "18ee451c-22f2-43f4-aea9-e8793ee89bb4",
   "metadata": {},
   "outputs": [
    {
     "name": "stdout",
     "output_type": "stream",
     "text": [
      "Is the graph simply connected? False\n"
     ]
    }
   ],
   "source": [
    "print(\"Is the graph simply connected?\", nx.is_connected(G))"
   ]
  },
  {
   "cell_type": "code",
   "execution_count": 23,
   "id": "959260a5-341d-4bb7-b9a5-689b8d526f68",
   "metadata": {},
   "outputs": [
    {
     "name": "stdout",
     "output_type": "stream",
     "text": [
      "The graph has 233377 connected components\n"
     ]
    }
   ],
   "source": [
    "print(\"The graph has\", nx.number_connected_components(G), \"connected components\")"
   ]
  },
  {
   "cell_type": "code",
   "execution_count": 28,
   "id": "8a122ecc-6c1f-41a1-8872-d9b93f5c0a66",
   "metadata": {},
   "outputs": [],
   "source": [
    "graphs = list(nx.connected_components(G))"
   ]
  },
  {
   "cell_type": "code",
   "execution_count": 32,
   "id": "b830a1e4-797a-4051-a2a5-a898f08d0cda",
   "metadata": {},
   "outputs": [
    {
     "name": "stdout",
     "output_type": "stream",
     "text": [
      "2\n"
     ]
    }
   ],
   "source": [
    "for k in nx.connected_components(G):\n",
    "    print(len(k))\n",
    "    break"
   ]
  },
  {
   "cell_type": "code",
   "execution_count": 29,
   "id": "4d61fa1c-4842-47f9-a17f-44e7dff4959a",
   "metadata": {},
   "outputs": [],
   "source": [
    "H = G.subgraph(graphs[0])"
   ]
  },
  {
   "cell_type": "code",
   "execution_count": 30,
   "id": "0379a18e-c40f-42bc-b3ad-67a8d65ab94e",
   "metadata": {},
   "outputs": [
    {
     "name": "stdout",
     "output_type": "stream",
     "text": [
      "Is the graph simply connected? True\n"
     ]
    }
   ],
   "source": [
    "print(\"Is the graph simply connected?\", nx.is_connected(H))"
   ]
  },
  {
   "cell_type": "code",
   "execution_count": 31,
   "id": "fee0841c-6f83-4588-bfe8-0c3e472c2b67",
   "metadata": {},
   "outputs": [
    {
     "name": "stdout",
     "output_type": "stream",
     "text": [
      "The network has 2 nodes\n"
     ]
    }
   ],
   "source": [
    "print(\"The network has\", len(H), \"nodes\")"
   ]
  },
  {
   "cell_type": "code",
   "execution_count": null,
   "id": "fdf6995e-292c-4781-a810-eefcf8ad5c8d",
   "metadata": {},
   "outputs": [],
   "source": []
  },
  {
   "cell_type": "code",
   "execution_count": null,
   "id": "332925d4-2105-415e-83cd-b82bf4362f01",
   "metadata": {},
   "outputs": [],
   "source": []
  }
 ],
 "metadata": {
  "kernelspec": {
   "display_name": "Python 3 (ipykernel)",
   "language": "python",
   "name": "python3"
  },
  "language_info": {
   "codemirror_mode": {
    "name": "ipython",
    "version": 3
   },
   "file_extension": ".py",
   "mimetype": "text/x-python",
   "name": "python",
   "nbconvert_exporter": "python",
   "pygments_lexer": "ipython3",
   "version": "3.10.5"
  }
 },
 "nbformat": 4,
 "nbformat_minor": 5
}
