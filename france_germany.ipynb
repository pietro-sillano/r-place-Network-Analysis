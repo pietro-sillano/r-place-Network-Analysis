{
 "cells": [
  {
   "cell_type": "code",
   "execution_count": 1,
   "id": "7969ed93-9065-44a5-843c-496378faf710",
   "metadata": {},
   "outputs": [],
   "source": [
    "import numpy as np # linear algebra\n",
    "import pandas as pd # data processing, CSV file I/O (e.g. pd.read_csv)\n",
    "from tqdm.auto import tqdm\n",
    "from matplotlib.path import Path\n",
    "import ast\n",
    "import pickle\n",
    "import matplotlib.pyplot as plt\n",
    "from networkx.algorithms import bipartite\n",
    "import networkx as nx\n",
    "from collections import Counter"
   ]
  },
  {
   "cell_type": "markdown",
   "id": "45977050-1ef0-4ad3-8a50-027cfc0af4ed",
   "metadata": {},
   "source": [
    "# Analysis"
   ]
  },
  {
   "cell_type": "code",
   "execution_count": 2,
   "id": "11e62781-b246-4cc3-916d-323779c5a471",
   "metadata": {},
   "outputs": [
    {
     "data": {
      "text/plain": [
       "{1: 610546,\n",
       " 2: 348796,\n",
       " 3: 239995,\n",
       " 4: 181104,\n",
       " 5: 143941,\n",
       " 10: 65270,\n",
       " 15: 38554,\n",
       " 20: 25511,\n",
       " 50: 4391,\n",
       " 100: 508,\n",
       " 200: 6}"
      ]
     },
     "execution_count": 2,
     "metadata": {},
     "output_type": "execute_result"
    }
   ],
   "source": [
    "l = {}\n",
    "threshold = [1,2,3,4,5,10,15,20,50,100,200]\n",
    "\n",
    "\n",
    "for t in threshold:\n",
    "    count = 0 \n",
    "    fh=open('output/network_france_germany.csv','r')\n",
    "    for line in fh.readlines():\n",
    "        s=line.strip().split(',')\n",
    "        if int(s[2]) > t:\n",
    "            count = count + 1\n",
    "    l[t] = count\n",
    "l"
   ]
  },
  {
   "cell_type": "code",
   "execution_count": 3,
   "id": "2f8dfa1e-13f0-4563-b05f-576f715eacef",
   "metadata": {},
   "outputs": [
    {
     "data": {
      "text/plain": [
       "[<matplotlib.lines.Line2D at 0x7fc08fd73cd0>]"
      ]
     },
     "execution_count": 3,
     "metadata": {},
     "output_type": "execute_result"
    },
    {
     "data": {
      "image/png": "[encoded data removed]",
      "text/plain": [
       "<Figure size 432x288 with 1 Axes>"
      ]
     },
     "metadata": {
      "needs_background": "light"
     },
     "output_type": "display_data"
    }
   ],
   "source": [
    "plt.semilogy(l.keys(),l.values())"
   ]
  },
  {
   "cell_type": "code",
   "execution_count": 32,
   "id": "8380b588-95b9-4bbc-9fe3-db700f325668",
   "metadata": {},
   "outputs": [],
   "source": [
    "def load_graph(MIN_TILES):\n",
    "    G=nx.Graph()\n",
    "    fh=open('output/network_france_germany.csv','r')\n",
    "\n",
    "    for line in fh.readlines():\n",
    "        s=line.strip().split(',')\n",
    "        if int(s[2]) >= MIN_TILES :\n",
    "            G.add_edge(str(s[0]),int(s[1]),weight = int(s[2]))\n",
    "    fh.close()  \n",
    "    return G"
   ]
  },
  {
   "cell_type": "code",
   "execution_count": 33,
   "id": "4435a1f4-38c0-42c5-815e-f3baefab2351",
   "metadata": {},
   "outputs": [],
   "source": [
    "def max_min_tiles(guess):\n",
    "    # trova il massimo numero minimo di tiles messe da un utente per cui abbiamo una componente sola!\n",
    "    G = load_graph(guess)\n",
    "    n_comps = len([c for c in nx.connected_components(G)])\n",
    "    MIN_TILES = guess\n",
    "    while n_comps > 1 :\n",
    "        G  = load_graph(MIN_TILES)\n",
    "        n_comps = len([c for c in nx.connected_components(G)])        \n",
    "        MIN_TILES = MIN_TILES -  5\n",
    "\n",
    "    return G, MIN_TILES"
   ]
  },
  {
   "cell_type": "code",
   "execution_count": 34,
   "id": "570877d6-9753-49b9-bc05-17bec8c176ef",
   "metadata": {},
   "outputs": [
    {
     "data": {
      "text/plain": [
       "15"
      ]
     },
     "execution_count": 34,
     "metadata": {},
     "output_type": "execute_result"
    }
   ],
   "source": [
    "G,MIN_TILES = max_min_tiles(100)\n",
    "MIN_TILES"
   ]
  },
  {
   "cell_type": "code",
   "execution_count": 35,
   "id": "3b93ecbb-a23a-447c-acfd-0582a3803999",
   "metadata": {},
   "outputs": [],
   "source": [
    "G=nx.Graph()\n",
    "fh=open('output/network_france_germany.csv','r')\n",
    "\n",
    "for line in fh.readlines():\n",
    "    s=line.strip().split(',')\n",
    "    if int(s[2]) > MIN_TILES:\n",
    "        G.add_edge(str(s[0]), int(s[1]), weight = int(s[2]))\n",
    "fh.close()  "
   ]
  },
  {
   "cell_type": "code",
   "execution_count": 36,
   "id": "d91ed34c-4536-4868-a5dc-80f3598bf2c6",
   "metadata": {},
   "outputs": [
    {
     "data": {
      "text/plain": [
       "38300"
      ]
     },
     "execution_count": 36,
     "metadata": {},
     "output_type": "execute_result"
    }
   ],
   "source": [
    "len(G.nodes)"
   ]
  },
  {
   "cell_type": "code",
   "execution_count": 37,
   "id": "584d6b10-276f-4a44-96d9-5067dc6dc993",
   "metadata": {},
   "outputs": [
    {
     "name": "stdout",
     "output_type": "stream",
     "text": [
      "abbiamo  9  artworks e  38291  utenti\n"
     ]
    }
   ],
   "source": [
    "counter = 0\n",
    "for node in G.nodes:\n",
    "    if isinstance(node, str):\n",
    "        counter += 1\n",
    "counter\n",
    "print('abbiamo ',counter,' artworks e ', len(G.nodes) - counter, ' utenti' )"
   ]
  },
  {
   "cell_type": "code",
   "execution_count": 38,
   "id": "e61d53b9-0c7e-447b-a4cb-1f0751ca88d8",
   "metadata": {},
   "outputs": [
    {
     "data": {
      "text/plain": [
       "[38300]"
      ]
     },
     "execution_count": 38,
     "metadata": {},
     "output_type": "execute_result"
    }
   ],
   "source": [
    "[len(c) for c in sorted(nx.connected_components(G), key=len, reverse=True)]"
   ]
  },
  {
   "cell_type": "code",
   "execution_count": 11,
   "id": "b179949c-d990-4480-bc31-918b5c72f0f2",
   "metadata": {},
   "outputs": [],
   "source": [
    "#S = [G.subgraph(c).copy() for c in nx.connected_components(G)]\n",
    "#G = nx.Graph(S[0])"
   ]
  },
  {
   "cell_type": "markdown",
   "id": "05f1e443-a8a4-44ae-be81-20241e1e50b9",
   "metadata": {},
   "source": [
    "### projected graph for arts"
   ]
  },
  {
   "cell_type": "code",
   "execution_count": 39,
   "id": "3f237a87-306d-4696-a03d-8cee6067a623",
   "metadata": {},
   "outputs": [
    {
     "data": {
      "text/plain": [
       "(9, 38291)"
      ]
     },
     "execution_count": 39,
     "metadata": {},
     "output_type": "execute_result"
    }
   ],
   "source": [
    "arts = nx.bipartite.sets(G)[0]\n",
    "users = nx.bipartite.sets(G)[1]\n",
    "len(arts), len(users)"
   ]
  },
  {
   "cell_type": "code",
   "execution_count": 40,
   "id": "9e036eca-0e64-4931-a399-392602cf3cf0",
   "metadata": {},
   "outputs": [
    {
     "data": {
      "image/png": "[encoded data removed]",
      "text/plain": [
       "<Figure size 432x288 with 1 Axes>"
      ]
     },
     "metadata": {},
     "output_type": "display_data"
    }
   ],
   "source": [
    "pos = nx.bipartite_layout(G, arts)\n",
    "nx.draw(G,pos,node_size=1)\n",
    "plt.savefig('plot/bipartite_net.png',dpi = 300,backend = 'cairo')"
   ]
  },
  {
   "cell_type": "code",
   "execution_count": 15,
   "id": "20aab6e7-532b-488e-a4c6-39be9f9b991e",
   "metadata": {},
   "outputs": [],
   "source": [
    "A = bipartite.projected_graph(G,arts, multigraph=False)\n",
    "U = bipartite.projected_graph(G,users, multigraph=False)"
   ]
  },
  {
   "cell_type": "code",
   "execution_count": 16,
   "id": "9809cd69-f52b-45d9-b218-df9651ae47d8",
   "metadata": {},
   "outputs": [
    {
     "data": {
      "text/plain": [
       "(3, 3033521)"
      ]
     },
     "execution_count": 16,
     "metadata": {},
     "output_type": "execute_result"
    }
   ],
   "source": [
    "len(A.edges), len(U.edges)"
   ]
  },
  {
   "cell_type": "code",
   "execution_count": 17,
   "id": "b48d40a1-60b4-41a1-a2d3-202e4e073d71",
   "metadata": {},
   "outputs": [],
   "source": [
    "pos = nx.circular_layout(A)\n",
    "#pos = nx.kamada_kawai_layout(A)\n",
    "#pos = nx.spring_layout(A)"
   ]
  },
  {
   "cell_type": "code",
   "execution_count": 18,
   "id": "043ae980-2954-4b5f-8cbb-1915261edc90",
   "metadata": {},
   "outputs": [
    {
     "data": {
      "image/png": "[encoded data removed]",
      "text/plain": [
       "<Figure size 432x288 with 1 Axes>"
      ]
     },
     "metadata": {},
     "output_type": "display_data"
    }
   ],
   "source": [
    "nx.draw(A,pos,node_size=10)\n",
    "plt.savefig('plot/project_net_arts.png',dpi = 300,backend = 'cairo')"
   ]
  },
  {
   "cell_type": "code",
   "execution_count": 19,
   "id": "be1cdbe0-5279-43fe-86a7-4c3b6d3cb178",
   "metadata": {},
   "outputs": [],
   "source": [
    "pos = nx.circular_layout(U)\n",
    "#pos = nx.kamada_kawai_layout(U)\n",
    "#pos = nx.spring_layout(U)"
   ]
  },
  {
   "cell_type": "code",
   "execution_count": 20,
   "id": "e69c8660-e829-41d4-89c2-a09965d03b19",
   "metadata": {},
   "outputs": [
    {
     "name": "stderr",
     "output_type": "stream",
     "text": [
      "\n",
      "KeyboardInterrupt\n",
      "\n"
     ]
    },
    {
     "name": "stdout",
     "output_type": "stream",
     "text": [
      "Error in callback <function flush_figures at 0x7fc08fd40310> (for post_execute):\n"
     ]
    },
    {
     "name": "stderr",
     "output_type": "stream",
     "text": [
      "\n",
      "KeyboardInterrupt\n",
      "\n"
     ]
    }
   ],
   "source": [
    "nx.draw(U,pos,node_size=10)\n",
    "plt.savefig('plot/project_net_arts.png',dpi = 300,backend = 'cairo')"
   ]
  },
  {
   "cell_type": "markdown",
   "id": "8bd2049d-0bfe-48fa-9dd2-b80c03d80722",
   "metadata": {},
   "source": [
    "# analisi del network"
   ]
  },
  {
   "cell_type": "markdown",
   "id": "91cb6bc1-761a-4b6c-af98-010bc9e7b8ce",
   "metadata": {},
   "source": [
    "### density"
   ]
  },
  {
   "cell_type": "code",
   "execution_count": 11,
   "id": "35746958-27a2-4f34-8c18-babb915b3661",
   "metadata": {},
   "outputs": [
    {
     "ename": "NameError",
     "evalue": "name 'A' is not defined",
     "output_type": "error",
     "traceback": [
      "\u001b[0;31m---------------------------------------------------------------------------\u001b[0m",
      "\u001b[0;31mNameError\u001b[0m                                 Traceback (most recent call last)",
      "Input \u001b[0;32mIn [11]\u001b[0m, in \u001b[0;36m<cell line: 3>\u001b[0;34m()\u001b[0m\n\u001b[1;32m      1\u001b[0m \u001b[38;5;28;01mdef\u001b[39;00m \u001b[38;5;21mdensity\u001b[39m(G):\n\u001b[1;32m      2\u001b[0m     \u001b[38;5;28;01mreturn\u001b[39;00m \u001b[38;5;241m2\u001b[39m\u001b[38;5;241m*\u001b[39m G\u001b[38;5;241m.\u001b[39mnumber_of_edges()\u001b[38;5;241m/\u001b[39m(G\u001b[38;5;241m.\u001b[39mnumber_of_nodes() \u001b[38;5;241m*\u001b[39m (G\u001b[38;5;241m.\u001b[39mnumber_of_nodes() \u001b[38;5;241m-\u001b[39m \u001b[38;5;241m1\u001b[39m))\n\u001b[0;32m----> 3\u001b[0m density(\u001b[43mA\u001b[49m), density(U)\n",
      "\u001b[0;31mNameError\u001b[0m: name 'A' is not defined"
     ]
    }
   ],
   "source": [
    "def density(G):\n",
    "    return 2* G.number_of_edges()/(G.number_of_nodes() * (G.number_of_nodes() - 1))\n",
    "density(A), density(U)"
   ]
  },
  {
   "cell_type": "markdown",
   "id": "23a14768-0462-40b2-b522-d3f9134cc23b",
   "metadata": {},
   "source": [
    "### distribuzione di grado"
   ]
  },
  {
   "cell_type": "code",
   "execution_count": 79,
   "id": "917ac785-de71-4504-ac47-2c0751429ee0",
   "metadata": {},
   "outputs": [
    {
     "name": "stdout",
     "output_type": "stream",
     "text": [
      "Counter({25: 14, 18: 8, 55: 6, 5: 3, 15: 3, 12: 2, 16: 2, 6: 2, 26: 1, 33: 1, 14: 1, 52: 1, 23: 1, 11: 1, 53: 1, 59: 1, 9: 1, 19: 1, 48: 1, 35: 1, 28: 1, 34: 1, 32: 1, 13: 1, 54: 1, 10: 1, 36: 1, 21: 1, 22: 1, 2: 1})\n"
     ]
    },
    {
     "data": {
      "text/plain": [
       "(1.0, 10000.0, 1e-05, 1.0)"
      ]
     },
     "execution_count": 79,
     "metadata": {},
     "output_type": "execute_result"
    },
    {
     "data": {
      "image/png": "[encoded data removed]",
      "text/plain": [
       "<Figure size 720x504 with 1 Axes>"
      ]
     },
     "metadata": {
      "needs_background": "light"
     },
     "output_type": "display_data"
    }
   ],
   "source": [
    "from collections import Counter \n",
    "import matplotlib.pyplot as plt\n",
    "\n",
    "indeg=dict(A.degree()).values()\n",
    "degin_distri=Counter(indeg)\n",
    "print(degin_distri)\n",
    "\n",
    "\n",
    "x=[]\n",
    "y=[]\n",
    "\n",
    "for i in sorted(degin_distri):   \n",
    "    x.append(i)\n",
    "    y.append(degin_distri[i]/len(A))\n",
    "\n",
    "plt.figure(figsize=(10,7))    \n",
    "plt.plot(x,y)\n",
    "\n",
    "plt.xlabel('$k_{in}$', fontsize=18)\n",
    "plt.ylabel('$P(k_{in})$', fontsize=18)\n",
    "\n",
    "plt.xticks(fontsize=14)\n",
    "plt.yticks(fontsize=14)\n",
    "\n",
    "plt.yscale('linear')\n",
    "plt.xscale('log')\n",
    "plt.axis([1,10000,0.00001,1.0])"
   ]
  },
  {
   "cell_type": "code",
   "execution_count": null,
   "id": "615d65c1-a5a3-441a-b4b8-c6a838f713ee",
   "metadata": {},
   "outputs": [],
   "source": [
    "### clustering"
   ]
  },
  {
   "cell_type": "code",
   "execution_count": null,
   "id": "ce8905bd-9b95-4e0b-8253-936bf977c2be",
   "metadata": {},
   "outputs": [],
   "source": [
    "### "
   ]
  },
  {
   "cell_type": "code",
   "execution_count": null,
   "id": "b8741026-7fa7-4858-a041-cdd9c697460a",
   "metadata": {},
   "outputs": [],
   "source": []
  }
 ],
 "metadata": {
  "kernelspec": {
   "display_name": "Python 3 (ipykernel)",
   "language": "python",
   "name": "python3"
  },
  "language_info": {
   "codemirror_mode": {
    "name": "ipython",
    "version": 3
   },
   "file_extension": ".py",
   "mimetype": "text/x-python",
   "name": "python",
   "nbconvert_exporter": "python",
   "pygments_lexer": "ipython3",
   "version": "3.10.5"
  }
 },
 "nbformat": 4,
 "nbformat_minor": 5
}
