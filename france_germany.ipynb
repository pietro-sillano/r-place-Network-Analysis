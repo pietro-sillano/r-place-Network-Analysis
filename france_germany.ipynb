{
 "cells": [
  {
   "cell_type": "code",
   "execution_count": 68,
   "id": "7969ed93-9065-44a5-843c-496378faf710",
   "metadata": {},
   "outputs": [],
   "source": [
    "import numpy as np # linear algebra\n",
    "import pandas as pd # data processing, CSV file I/O (e.g. pd.read_csv)\n",
    "from tqdm.auto import tqdm\n",
    "from matplotlib.path import Path\n",
    "import ast\n",
    "import pickle\n",
    "import matplotlib.pyplot as plt\n",
    "from networkx.algorithms import bipartite\n",
    "import networkx as nx\n",
    "from collections import Counter"
   ]
  },
  {
   "cell_type": "markdown",
   "id": "45977050-1ef0-4ad3-8a50-027cfc0af4ed",
   "metadata": {},
   "source": [
    "# Analysis"
   ]
  },
  {
   "cell_type": "code",
   "execution_count": 2,
   "id": "11e62781-b246-4cc3-916d-323779c5a471",
   "metadata": {},
   "outputs": [
    {
     "data": {
      "text/plain": [
       "{1: 859300,\n",
       " 2: 474220,\n",
       " 3: 309404,\n",
       " 4: 219839,\n",
       " 5: 165041,\n",
       " 10: 59481,\n",
       " 15: 30338,\n",
       " 20: 18473,\n",
       " 50: 2876,\n",
       " 100: 268,\n",
       " 200: 9}"
      ]
     },
     "execution_count": 2,
     "metadata": {},
     "output_type": "execute_result"
    }
   ],
   "source": [
    "l = {}\n",
    "threshold = [1,2,3,4,5,10,15,20,50,100,200]\n",
    "\n",
    "\n",
    "for t in threshold:\n",
    "    count = 0 \n",
    "#    fh=open('output/network_france_germany.csv','r')\n",
    "    fh=open('output/network_random_arts.csv','r')\n",
    "\n",
    "    for line in fh.readlines():\n",
    "        s=line.strip().split(',')\n",
    "        if int(s[2]) > t:\n",
    "            count = count + 1\n",
    "    l[t] = count\n",
    "l"
   ]
  },
  {
   "cell_type": "code",
   "execution_count": 3,
   "id": "2f8dfa1e-13f0-4563-b05f-576f715eacef",
   "metadata": {},
   "outputs": [
    {
     "data": {
      "text/plain": [
       "[<matplotlib.lines.Line2D at 0x7f043859bc40>]"
      ]
     },
     "execution_count": 3,
     "metadata": {},
     "output_type": "execute_result"
    },
    {
     "data": {
      "image/png": "[encoded data removed]",
      "text/plain": [
       "<Figure size 432x288 with 1 Axes>"
      ]
     },
     "metadata": {
      "needs_background": "light"
     },
     "output_type": "display_data"
    }
   ],
   "source": [
    "plt.semilogy(l.keys(),l.values())"
   ]
  },
  {
   "cell_type": "code",
   "execution_count": 8,
   "id": "8380b588-95b9-4bbc-9fe3-db700f325668",
   "metadata": {},
   "outputs": [],
   "source": [
    "def load_graph(MIN_TILES):\n",
    "    G=nx.Graph()\n",
    "    fh=open('output/network_random_arts.csv','r')\n",
    "    #fh=open('network_france_germany.csv','r')\n",
    "\n",
    "\n",
    "    for line in fh.readlines():\n",
    "        s=line.strip().split(',')\n",
    "        if int(s[2]) >= MIN_TILES :\n",
    "            G.add_edge(str(s[0]),int(s[1]),weight = int(s[2]))\n",
    "    fh.close()  \n",
    "    return G"
   ]
  },
  {
   "cell_type": "code",
   "execution_count": 9,
   "id": "4435a1f4-38c0-42c5-815e-f3baefab2351",
   "metadata": {},
   "outputs": [],
   "source": [
    "def max_min_tiles(guess):\n",
    "    # trova il massimo numero minimo di tiles messe da un utente per cui abbiamo una componente sola!\n",
    "    G = load_graph(guess)\n",
    "    n_comps = len([c for c in nx.connected_components(G)])\n",
    "    MIN_TILES = guess\n",
    "    while n_comps > 1 :\n",
    "        G  = load_graph(MIN_TILES)\n",
    "        n_comps = len([c for c in nx.connected_components(G)])        \n",
    "        MIN_TILES = MIN_TILES -  1\n",
    "\n",
    "    return G, MIN_TILES"
   ]
  },
  {
   "cell_type": "code",
   "execution_count": 10,
   "id": "570877d6-9753-49b9-bc05-17bec8c176ef",
   "metadata": {},
   "outputs": [
    {
     "data": {
      "text/plain": [
       "19"
      ]
     },
     "execution_count": 10,
     "metadata": {},
     "output_type": "execute_result"
    }
   ],
   "source": [
    "G,MIN_TILES = max_min_tiles(25)\n",
    "MIN_TILES"
   ]
  },
  {
   "cell_type": "code",
   "execution_count": 105,
   "id": "c1173a43-b42e-470f-80aa-afcd9cc84a7d",
   "metadata": {},
   "outputs": [],
   "source": [
    "MIN_TILES = 50"
   ]
  },
  {
   "cell_type": "code",
   "execution_count": 106,
   "id": "3b93ecbb-a23a-447c-acfd-0582a3803999",
   "metadata": {},
   "outputs": [],
   "source": [
    "import random\n",
    "G=nx.Graph()\n",
    "#fh=open('output/network_france_germany.csv','r')\n",
    "fh=open('output/network_random_arts.csv','r')\n",
    "\n",
    "\n",
    "for line in fh.readlines():\n",
    "    s=line.strip().split(',')\n",
    "    if int(s[2]) > MIN_TILES:\n",
    "        if random.random() < 1:\n",
    "            G.add_edge(str(s[0]), int(s[1]), weight = int(s[2]))\n",
    "fh.close()  "
   ]
  },
  {
   "cell_type": "code",
   "execution_count": 107,
   "id": "d91ed34c-4536-4868-a5dc-80f3598bf2c6",
   "metadata": {},
   "outputs": [
    {
     "data": {
      "text/plain": [
       "2895"
      ]
     },
     "execution_count": 107,
     "metadata": {},
     "output_type": "execute_result"
    }
   ],
   "source": [
    "len(G.nodes)"
   ]
  },
  {
   "cell_type": "code",
   "execution_count": 108,
   "id": "584d6b10-276f-4a44-96d9-5067dc6dc993",
   "metadata": {},
   "outputs": [
    {
     "name": "stdout",
     "output_type": "stream",
     "text": [
      "abbiamo  25  artworks e  2870  utenti\n"
     ]
    }
   ],
   "source": [
    "counter = 0\n",
    "for node in G.nodes:\n",
    "    if isinstance(node, str):\n",
    "        counter += 1\n",
    "counter\n",
    "print('abbiamo ',counter,' artworks e ', len(G.nodes) - counter, ' utenti' )"
   ]
  },
  {
   "cell_type": "code",
   "execution_count": 109,
   "id": "e61d53b9-0c7e-447b-a4cb-1f0751ca88d8",
   "metadata": {},
   "outputs": [
    {
     "data": {
      "text/plain": [
       "[686,\n",
       " 406,\n",
       " 351,\n",
       " 304,\n",
       " 243,\n",
       " 186,\n",
       " 130,\n",
       " 120,\n",
       " 98,\n",
       " 76,\n",
       " 53,\n",
       " 45,\n",
       " 40,\n",
       " 36,\n",
       " 24,\n",
       " 20,\n",
       " 20,\n",
       " 17,\n",
       " 14,\n",
       " 12,\n",
       " 11,\n",
       " 3]"
      ]
     },
     "execution_count": 109,
     "metadata": {},
     "output_type": "execute_result"
    }
   ],
   "source": [
    "[len(c) for c in sorted(nx.connected_components(G), key=len, reverse=True)]"
   ]
  },
  {
   "cell_type": "code",
   "execution_count": 113,
   "id": "b179949c-d990-4480-bc31-918b5c72f0f2",
   "metadata": {},
   "outputs": [],
   "source": [
    "if len([len(c) for c in sorted(nx.connected_components(G), key=len, reverse=True)]) > 1:\n",
    "    S = [G.subgraph(c).copy() for c in nx.connected_components(G)]\n",
    "G = nx.Graph(S[0])"
   ]
  },
  {
   "cell_type": "markdown",
   "id": "05f1e443-a8a4-44ae-be81-20241e1e50b9",
   "metadata": {},
   "source": [
    "### projected graph for arts"
   ]
  },
  {
   "cell_type": "code",
   "execution_count": 103,
   "id": "ac49e7d6-d534-4f04-bb09-7bc7772877c5",
   "metadata": {},
   "outputs": [],
   "source": [
    "#from networkx.algorithms import bipartite \n",
    "#G = bipartite.gnmk_random_graph(10,20,100)"
   ]
  },
  {
   "cell_type": "code",
   "execution_count": 114,
   "id": "3f237a87-306d-4696-a03d-8cee6067a623",
   "metadata": {},
   "outputs": [
    {
     "data": {
      "text/plain": [
       "(13, 1)"
      ]
     },
     "execution_count": 114,
     "metadata": {},
     "output_type": "execute_result"
    }
   ],
   "source": [
    "arts = nx.bipartite.sets(G)[0]\n",
    "users = nx.bipartite.sets(G)[1]\n",
    "len(arts), len(users)"
   ]
  },
  {
   "cell_type": "code",
   "execution_count": 115,
   "id": "9e036eca-0e64-4931-a399-392602cf3cf0",
   "metadata": {},
   "outputs": [
    {
     "data": {
      "image/png": "[encoded data removed]",
      "text/plain": [
       "<Figure size 432x288 with 1 Axes>"
      ]
     },
     "metadata": {},
     "output_type": "display_data"
    }
   ],
   "source": [
    "pos = nx.bipartite_layout(G, arts)\n",
    "nx.draw(G,pos,node_size=1)\n",
    "plt.savefig('plot/bipartite_net.png',dpi = 300,backend = 'cairo')"
   ]
  },
  {
   "cell_type": "code",
   "execution_count": 46,
   "id": "5b0dc144-6e82-404a-b7c5-6b55d5457c2d",
   "metadata": {},
   "outputs": [
    {
     "name": "stdout",
     "output_type": "stream",
     "text": [
      "[['a', 'b'], ['a', 'b']]\n"
     ]
    }
   ],
   "source": [
    "B = nx.Graph()\n",
    "B.add_edges_from([(\"a\", 1), (\"b\", 1), (\"a\", 2), (\"b\", 2)])\n",
    "G = bipartite.projected_graph(B, [\"a\", \"b\"], multigraph=True)\n",
    "print([sorted((u, v)) for u, v in G.edges()])\n",
    "nodes = nx.bipartite.sets(B)[0]\n"
   ]
  },
  {
   "cell_type": "code",
   "execution_count": 48,
   "id": "cd0ce946-6846-42d5-a40d-2f440be9054a",
   "metadata": {},
   "outputs": [
    {
     "data": {
      "image/png": "[encoded data removed]",
      "text/plain": [
       "<Figure size 432x288 with 1 Axes>"
      ]
     },
     "metadata": {},
     "output_type": "display_data"
    }
   ],
   "source": [
    "pos = nx.bipartite_layout(B,nodes)\n",
    "nx.draw(G,pos,node_size=1)\n"
   ]
  },
  {
   "cell_type": "code",
   "execution_count": null,
   "id": "141bafe3-f3b2-49b6-992f-88afda847afd",
   "metadata": {},
   "outputs": [],
   "source": []
  },
  {
   "cell_type": "code",
   "execution_count": 116,
   "id": "20aab6e7-532b-488e-a4c6-39be9f9b991e",
   "metadata": {},
   "outputs": [],
   "source": [
    "A = bipartite.projected_graph(G,arts, multigraph=False)"
   ]
  },
  {
   "cell_type": "code",
   "execution_count": 82,
   "id": "ab9ab58a-fa4f-4ecc-b138-7cba03058222",
   "metadata": {},
   "outputs": [],
   "source": [
    "A = bipartite.collaboration_weighted_projected_graph(G,arts)"
   ]
  },
  {
   "cell_type": "code",
   "execution_count": 117,
   "id": "9702f033-9346-4dc0-a165-48c07dcfe179",
   "metadata": {},
   "outputs": [],
   "source": [
    "U = bipartite.projected_graph(G,users, multigraph=False)"
   ]
  },
  {
   "cell_type": "code",
   "execution_count": 118,
   "id": "9809cd69-f52b-45d9-b218-df9651ae47d8",
   "metadata": {},
   "outputs": [
    {
     "data": {
      "text/plain": [
       "(78, 0)"
      ]
     },
     "execution_count": 118,
     "metadata": {},
     "output_type": "execute_result"
    }
   ],
   "source": [
    "len(A.edges), len(U.edges)"
   ]
  },
  {
   "cell_type": "code",
   "execution_count": 119,
   "id": "b48d40a1-60b4-41a1-a2d3-202e4e073d71",
   "metadata": {},
   "outputs": [],
   "source": [
    "#pos = nx.circular_layout(A)\n",
    "#pos = nx.kamada_kawai_layout(A)\n",
    "pos = nx.spring_layout(A)"
   ]
  },
  {
   "cell_type": "code",
   "execution_count": 84,
   "id": "043ae980-2954-4b5f-8cbb-1915261edc90",
   "metadata": {},
   "outputs": [
    {
     "data": {
      "image/png": "[encoded data removed]",
      "text/plain": [
       "<Figure size 432x288 with 1 Axes>"
      ]
     },
     "metadata": {},
     "output_type": "display_data"
    }
   ],
   "source": [
    "nx.draw(A,pos,node_size=0.1)\n",
    "#plt.savefig('plot/project_net_arts.png',dpi = 300,backend = 'cairo')\n",
    "plt.savefig('plot/project_net_arts.png',dpi = 300)"
   ]
  },
  {
   "cell_type": "code",
   "execution_count": 64,
   "id": "be1cdbe0-5279-43fe-86a7-4c3b6d3cb178",
   "metadata": {},
   "outputs": [],
   "source": [
    "pos = nx.circular_layout(U)\n",
    "#pos = nx.kamada_kawai_layout(U)\n",
    "#pos = nx.spring_layout(U)"
   ]
  },
  {
   "cell_type": "code",
   "execution_count": 65,
   "id": "e69c8660-e829-41d4-89c2-a09965d03b19",
   "metadata": {},
   "outputs": [
    {
     "data": {
      "image/png": "[encoded data removed]",
      "text/plain": [
       "<Figure size 432x288 with 1 Axes>"
      ]
     },
     "metadata": {},
     "output_type": "display_data"
    }
   ],
   "source": [
    "nx.draw(U,pos,node_size=10)\n",
    "plt.savefig('plot/project_net_arts.png',dpi = 300,backend = 'cairo')"
   ]
  },
  {
   "cell_type": "markdown",
   "id": "8bd2049d-0bfe-48fa-9dd2-b80c03d80722",
   "metadata": {},
   "source": [
    "# analisi del network"
   ]
  },
  {
   "cell_type": "markdown",
   "id": "91cb6bc1-761a-4b6c-af98-010bc9e7b8ce",
   "metadata": {},
   "source": [
    "### density"
   ]
  },
  {
   "cell_type": "code",
   "execution_count": 54,
   "id": "35746958-27a2-4f34-8c18-babb915b3661",
   "metadata": {},
   "outputs": [
    {
     "data": {
      "text/plain": [
       "(0.13725490196078433, 0.20838921315062256)"
      ]
     },
     "execution_count": 54,
     "metadata": {},
     "output_type": "execute_result"
    }
   ],
   "source": [
    "def density(G):\n",
    "    return 2* G.number_of_edges()/(G.number_of_nodes() * (G.number_of_nodes() - 1))\n",
    "density(A), density(U)"
   ]
  },
  {
   "cell_type": "markdown",
   "id": "23a14768-0462-40b2-b522-d3f9134cc23b",
   "metadata": {},
   "source": [
    "### distribuzione di grado"
   ]
  },
  {
   "cell_type": "code",
   "execution_count": 55,
   "id": "917ac785-de71-4504-ac47-2c0751429ee0",
   "metadata": {},
   "outputs": [
    {
     "name": "stdout",
     "output_type": "stream",
     "text": [
      "Counter({1: 7, 2: 4, 3: 4, 5: 1, 4: 1, 6: 1})\n"
     ]
    },
    {
     "data": {
      "text/plain": [
       "(1.0, 10000.0, 1e-05, 1.0)"
      ]
     },
     "execution_count": 55,
     "metadata": {},
     "output_type": "execute_result"
    },
    {
     "data": {
      "image/png": "[encoded data removed]",
      "text/plain": [
       "<Figure size 720x504 with 1 Axes>"
      ]
     },
     "metadata": {
      "needs_background": "light"
     },
     "output_type": "display_data"
    }
   ],
   "source": [
    "from collections import Counter \n",
    "import matplotlib.pyplot as plt\n",
    "\n",
    "indeg=dict(A.degree()).values()\n",
    "degin_distri=Counter(indeg)\n",
    "print(degin_distri)\n",
    "\n",
    "\n",
    "x=[]\n",
    "y=[]\n",
    "\n",
    "for i in sorted(degin_distri):   \n",
    "    x.append(i)\n",
    "    y.append(degin_distri[i]/len(A))\n",
    "\n",
    "plt.figure(figsize=(10,7))    \n",
    "plt.plot(x,y)\n",
    "\n",
    "plt.xlabel('$k_{in}$', fontsize=18)\n",
    "plt.ylabel('$P(k_{in})$', fontsize=18)\n",
    "\n",
    "plt.xticks(fontsize=14)\n",
    "plt.yticks(fontsize=14)\n",
    "\n",
    "plt.yscale('linear')\n",
    "plt.xscale('log')\n",
    "plt.axis([1,10000,0.00001,1.0])"
   ]
  },
  {
   "cell_type": "code",
   "execution_count": null,
   "id": "615d65c1-a5a3-441a-b4b8-c6a838f713ee",
   "metadata": {},
   "outputs": [],
   "source": [
    "### clustering"
   ]
  },
  {
   "cell_type": "code",
   "execution_count": null,
   "id": "ce8905bd-9b95-4e0b-8253-936bf977c2be",
   "metadata": {},
   "outputs": [],
   "source": [
    "### "
   ]
  },
  {
   "cell_type": "code",
   "execution_count": null,
   "id": "b8741026-7fa7-4858-a041-cdd9c697460a",
   "metadata": {},
   "outputs": [],
   "source": []
  }
 ],
 "metadata": {
  "kernelspec": {
   "display_name": "Python 3 (ipykernel)",
   "language": "python",
   "name": "python3"
  },
  "language_info": {
   "codemirror_mode": {
    "name": "ipython",
    "version": 3
   },
   "file_extension": ".py",
   "mimetype": "text/x-python",
   "name": "python",
   "nbconvert_exporter": "python",
   "pygments_lexer": "ipython3",
   "version": "3.10.5"
  }
 },
 "nbformat": 4,
 "nbformat_minor": 5
}
