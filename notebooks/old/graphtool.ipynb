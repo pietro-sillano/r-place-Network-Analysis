{
 "cells": [
  {
   "cell_type": "markdown",
   "id": "bd65858f-9234-4ed7-8be5-92c4abc87e5d",
   "metadata": {},
   "source": [
    "**Questo crasha sul mio computer e graphtool é un bordello da installare perche deve essere compilato**"
   ]
  },
  {
   "cell_type": "code",
   "execution_count": 1,
   "id": "21a1ea1f-4c16-427e-8b89-09917be83360",
   "metadata": {},
   "outputs": [],
   "source": [
    "import graph_tool\n",
    "from graph_tool.all import *"
   ]
  },
  {
   "cell_type": "code",
   "execution_count": 2,
   "id": "76a31acc-e0aa-40be-88aa-8ebd082d9527",
   "metadata": {},
   "outputs": [],
   "source": [
    "g = graph_tool.load_graph_from_csv(\"output/users_network2.txt\",directed=False,csv_options={'delimiter': ' ', 'quotechar': '\"'}) "
   ]
  },
  {
   "cell_type": "code",
   "execution_count": 5,
   "id": "68401247-4569-4ca9-9644-434247ac9687",
   "metadata": {},
   "outputs": [
    {
     "data": {
      "text/plain": [
       "<VertexPropertyMap object with value type 'vector<double>', for Graph 0x7fd2b123ff40, at 0x7fd2281493c0>"
      ]
     },
     "execution_count": 5,
     "metadata": {},
     "output_type": "execute_result"
    }
   ],
   "source": [
    "pos = sfdp_layout(g)\n",
    "\n",
    "graph_draw(g, pos=pos, output=\"graph-draw-sfdp.pdf\")"
   ]
  },
  {
   "cell_type": "code",
   "execution_count": 3,
   "id": "cc43132b-8e65-4617-973b-9468da94fee6",
   "metadata": {},
   "outputs": [
    {
     "data": {
      "text/plain": [
       "<VertexPropertyMap object with value type 'vector<double>', for Graph 0x7fd2b123ff40, at 0x7fd2286d85b0>"
      ]
     },
     "execution_count": 3,
     "metadata": {},
     "output_type": "execute_result"
    }
   ],
   "source": [
    "graph_tool.draw.graph_draw(g,output=\"nodes.pdf\")"
   ]
  },
  {
   "cell_type": "code",
   "execution_count": null,
   "id": "bb32ec19-5813-418f-95da-9072532aa617",
   "metadata": {},
   "outputs": [],
   "source": [
    "graphviz_draw(g, elen=10,output=\"graphviz-draw.pdf\") # non funziona"
   ]
  },
  {
   "cell_type": "code",
   "execution_count": null,
   "id": "56c71951-3dd6-48fe-97b1-ac0a304bf6ea",
   "metadata": {},
   "outputs": [],
   "source": [
    "pos = fruchterman_reingold_layout(g, n_iter=1000)\n",
    "\n",
    "graph_draw(g, pos=pos, output=\"graph-draw-fr.pdf\")"
   ]
  },
  {
   "cell_type": "code",
   "execution_count": null,
   "id": "85546eea-d86a-44e2-bb06-6f82e2dcf6c2",
   "metadata": {},
   "outputs": [],
   "source": []
  }
 ],
 "metadata": {
  "kernelspec": {
   "display_name": "Python 3 (ipykernel)",
   "language": "python",
   "name": "python3"
  },
  "language_info": {
   "codemirror_mode": {
    "name": "ipython",
    "version": 3
   },
   "file_extension": ".py",
   "mimetype": "text/x-python",
   "name": "python",
   "nbconvert_exporter": "python",
   "pygments_lexer": "ipython3",
   "version": "3.10.5"
  }
 },
 "nbformat": 4,
 "nbformat_minor": 5
}
